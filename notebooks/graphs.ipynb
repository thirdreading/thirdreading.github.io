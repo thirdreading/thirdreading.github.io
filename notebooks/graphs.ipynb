{
  "nbformat": 4,
  "nbformat_minor": 0,
  "metadata": {
    "colab": {
      "provenance": [],
      "toc_visible": true
    },
    "kernelspec": {
      "name": "python3",
      "display_name": "Python 3"
    },
    "language_info": {
      "name": "python"
    }
  },
  "cells": [
    {
      "cell_type": "markdown",
      "source": [
        "# Preliminaries"
      ],
      "metadata": {
        "id": "weNLPCHyZnJg"
      }
    },
    {
      "cell_type": "markdown",
      "source": [
        "## Libraries"
      ],
      "metadata": {
        "id": "MzWicMqZZrpa"
      }
    },
    {
      "cell_type": "code",
      "source": [
        "import plotly.express as px"
      ],
      "metadata": {
        "id": "lBR_mNTpZvId"
      },
      "execution_count": 1,
      "outputs": []
    },
    {
      "cell_type": "markdown",
      "source": [
        "<br>\n",
        "\n",
        "# Draw"
      ],
      "metadata": {
        "id": "96zv5fatZx7r"
      }
    },
    {
      "cell_type": "code",
      "execution_count": 8,
      "metadata": {
        "id": "5eWV4LVvZhx-"
      },
      "outputs": [],
      "source": [
        "fig = px.scatter(x=range(10), y=range(10))\n",
        "fig.write_html(\"../assets/points.html\", default_width='65%', default_height='85%')"
      ]
    }
  ]
}